{
 "cells": [
  {
   "cell_type": "code",
   "execution_count": null,
   "id": "cabb8751-fcda-49b6-a2c2-758c3874e82c",
   "metadata": {},
   "outputs": [],
   "source": [
    "import pandas as pd\n",
    "import numpy as np\n",
    "from sklearn.preprocessing import LabelEncoder \n",
    "from sklearn.model_selection import train_test_split\n",
    "from sklearn.svm import SVC\n",
    "from sklearn.linear_model import LogisticRegression\n",
    "from xgboost import XGBClassifier\n",
    "from sklearn.metrics import accuracy_score, recall_score, f1_score, precision_score\n",
    "import matplotlib.pyplot as pt\n",
    "from sklearn.preprocessing import MinMaxScaler\n",
    "import seaborn as sns"
   ]
  },
  {
   "cell_type": "code",
   "execution_count": null,
   "id": "55809484-4f79-4c69-9c71-fa5f416cc852",
   "metadata": {},
   "outputs": [],
   "source": [
    "df = pd.read_csv(\"credit_risk_dataset.csv\")"
   ]
  },
  {
   "cell_type": "code",
   "execution_count": null,
   "id": "7c954925-ab41-48cb-a8a1-3858fca1375b",
   "metadata": {},
   "outputs": [],
   "source": [
    "df"
   ]
  },
  {
   "cell_type": "code",
   "execution_count": null,
   "id": "930735e5-2145-4ad2-a0e3-17fe8cd3cf4f",
   "metadata": {},
   "outputs": [],
   "source": [
    "df.info()"
   ]
  },
  {
   "cell_type": "code",
   "execution_count": null,
   "id": "0b825872-0751-48a1-b49a-a0e20816c514",
   "metadata": {},
   "outputs": [],
   "source": [
    "df.isna().sum()"
   ]
  },
  {
   "cell_type": "code",
   "execution_count": null,
   "id": "35b29a78-983d-482e-8484-1639eeb18ab1",
   "metadata": {},
   "outputs": [],
   "source": [
    "p_sum = np.sum(df.person_emp_length)"
   ]
  },
  {
   "cell_type": "code",
   "execution_count": null,
   "id": "ead6c20d-8528-4230-8032-f13b1a1a67e2",
   "metadata": {},
   "outputs": [],
   "source": [
    "p_ave = p_sum/31686"
   ]
  },
  {
   "cell_type": "code",
   "execution_count": null,
   "id": "637fb2c5-ab9f-44c8-b97d-3c06db686678",
   "metadata": {},
   "outputs": [],
   "source": [
    "df.person_emp_length = df.person_emp_length.fillna(value=p_ave)"
   ]
  },
  {
   "cell_type": "code",
   "execution_count": null,
   "id": "d2e0d9c8-de87-452c-b11b-ec458bc62a95",
   "metadata": {},
   "outputs": [],
   "source": [
    "int_s = np.sum(df.loan_int_rate)"
   ]
  },
  {
   "cell_type": "code",
   "execution_count": null,
   "id": "3d86c044-f9ee-4c29-b234-52733a65b42f",
   "metadata": {},
   "outputs": [],
   "source": [
    "int_ave = int_s/29465"
   ]
  },
  {
   "cell_type": "code",
   "execution_count": null,
   "id": "a2ad516c-2cf4-4034-83c6-821dadba6c56",
   "metadata": {},
   "outputs": [],
   "source": [
    "df.loan_int_rate = df.loan_int_rate.fillna(value=int_ave)"
   ]
  },
  {
   "cell_type": "code",
   "execution_count": null,
   "id": "237f8700-e000-49c9-8155-e5d1d72802d0",
   "metadata": {},
   "outputs": [],
   "source": [
    "df.isna().sum()"
   ]
  },
  {
   "cell_type": "code",
   "execution_count": null,
   "id": "0fad4df5-31c7-48b3-94b3-2a5b13f923c2",
   "metadata": {},
   "outputs": [],
   "source": [
    "le = LabelEncoder()"
   ]
  },
  {
   "cell_type": "code",
   "execution_count": null,
   "id": "4c4f50d8-7b6c-4198-9bf3-1300bed75128",
   "metadata": {},
   "outputs": [],
   "source": [
    "df.person_home_ownership = le.fit_transform(df.person_home_ownership)\n",
    "df.loan_intent = le.fit_transform(df.loan_intent)\n",
    "df.loan_grade = le.fit_transform(df.loan_grade)\n",
    "df.cb_person_default_on_file = le.fit_transform(df.cb_person_default_on_file)"
   ]
  },
  {
   "cell_type": "code",
   "execution_count": null,
   "id": "758d9c35-5bb7-4edd-a985-2130cc644df0",
   "metadata": {},
   "outputs": [],
   "source": [
    "df.info()"
   ]
  },
  {
   "cell_type": "code",
   "execution_count": null,
   "id": "15e6cf53-c157-4248-8eba-fd5151df17f6",
   "metadata": {},
   "outputs": [],
   "source": [
    "mm = MinMaxScaler()\n",
    "df = mm.fit_transform(df)"
   ]
  },
  {
   "cell_type": "code",
   "execution_count": null,
   "id": "a3956481-0ce8-4fa0-aa83-2723dcd2643e",
   "metadata": {},
   "outputs": [],
   "source": [
    "df = pd.DataFrame(df, columns=[\"person_age\", \"person_income\",\t\"person_home_ownership\",\t\"person_emp_length\",\t\"loan_intent\",\t\"loan_grade\",\t\"loan_amnt\",\t\"loan_int_rate\",\t\"loan_status\",\t\"loan_percent_income\",\t\"cb_person_default_on_file\",\t\"cb_person_cred_hist_length\"])"
   ]
  },
  {
   "cell_type": "code",
   "execution_count": null,
   "id": "1f1da0e2-04a5-4233-81c7-5e4b2f7c525a",
   "metadata": {},
   "outputs": [],
   "source": [
    "df"
   ]
  },
  {
   "cell_type": "code",
   "execution_count": null,
   "id": "52d948b3-7673-4545-aada-9f61fb0b5d34",
   "metadata": {},
   "outputs": [],
   "source": [
    "sns.pairplot(df)"
   ]
  },
  {
   "cell_type": "code",
   "execution_count": null,
   "id": "400f1525-58b8-493e-958d-0f06bd55e50b",
   "metadata": {},
   "outputs": [],
   "source": [
    "df.describe().round(2)"
   ]
  },
  {
   "cell_type": "code",
   "execution_count": null,
   "id": "8e148e04-6c67-4f71-bd60-aeac0cd94315",
   "metadata": {},
   "outputs": [],
   "source": [
    "X = df.drop(\"loan_status\", axis = 1)\n",
    "y = df.loan_status"
   ]
  },
  {
   "cell_type": "code",
   "execution_count": null,
   "id": "b9700232-ff23-45d2-af93-fa4fde05802d",
   "metadata": {},
   "outputs": [],
   "source": [
    "X_train, X_test, y_train, y_test = train_test_split(X,y , test_size=0.15, random_state=50)"
   ]
  },
  {
   "cell_type": "code",
   "execution_count": null,
   "id": "e41a5bc8-22f7-4765-aa7f-1be248d9018b",
   "metadata": {},
   "outputs": [],
   "source": [
    "X_train"
   ]
  },
  {
   "cell_type": "code",
   "execution_count": null,
   "id": "48761c72-af86-4c05-8173-2a5d0dda271d",
   "metadata": {},
   "outputs": [],
   "source": [
    "from sklearn.metrics import accuracy_score\n",
    "from sklearn.metrics import classification_report, confusion_matrix\n"
   ]
  },
  {
   "cell_type": "code",
   "execution_count": 80,
   "id": "e24735ea-ea3e-4929-af47-131858dc6994",
   "metadata": {},
   "outputs": [
    {
     "name": "stderr",
     "output_type": "stream",
     "text": [
      "/opt/anaconda3/lib/python3.12/site-packages/xgboost/core.py:158: UserWarning: [09:48:34] WARNING: /Users/runner/work/xgboost/xgboost/src/learner.cc:740: \n",
      "Parameters: { \"use_label_encoder\" } are not used.\n",
      "\n",
      "  warnings.warn(smsg, UserWarning)\n"
     ]
    },
    {
     "ename": "NotFittedError",
     "evalue": "This LabelEncoder instance is not fitted yet. Call 'fit' with appropriate arguments before using this estimator.",
     "output_type": "error",
     "traceback": [
      "\u001b[0;31m---------------------------------------------------------------------------\u001b[0m",
      "\u001b[0;31mNotFittedError\u001b[0m                            Traceback (most recent call last)",
      "Cell \u001b[0;32mIn[80], line 31\u001b[0m\n\u001b[1;32m     28\u001b[0m ensemble_preds \u001b[38;5;241m=\u001b[39m np\u001b[38;5;241m.\u001b[39margmax(ensemble_probs, axis\u001b[38;5;241m=\u001b[39m\u001b[38;5;241m1\u001b[39m)\n\u001b[1;32m     30\u001b[0m \u001b[38;5;66;03m# Decode numeric predictions back to original labels\u001b[39;00m\n\u001b[0;32m---> 31\u001b[0m ensemble_labels \u001b[38;5;241m=\u001b[39m label_encoder\u001b[38;5;241m.\u001b[39minverse_transform(ensemble_preds)\n\u001b[1;32m     33\u001b[0m \u001b[38;5;66;03m# Evaluate ensemble\u001b[39;00m\n\u001b[1;32m     34\u001b[0m accuracy \u001b[38;5;241m=\u001b[39m accuracy_score(y_test_encoded, ensemble_preds)\n",
      "File \u001b[0;32m/opt/anaconda3/lib/python3.12/site-packages/sklearn/preprocessing/_label.py:152\u001b[0m, in \u001b[0;36mLabelEncoder.inverse_transform\u001b[0;34m(self, y)\u001b[0m\n\u001b[1;32m    139\u001b[0m \u001b[38;5;28;01mdef\u001b[39;00m \u001b[38;5;21minverse_transform\u001b[39m(\u001b[38;5;28mself\u001b[39m, y):\n\u001b[1;32m    140\u001b[0m \u001b[38;5;250m    \u001b[39m\u001b[38;5;124;03m\"\"\"Transform labels back to original encoding.\u001b[39;00m\n\u001b[1;32m    141\u001b[0m \n\u001b[1;32m    142\u001b[0m \u001b[38;5;124;03m    Parameters\u001b[39;00m\n\u001b[0;32m   (...)\u001b[0m\n\u001b[1;32m    150\u001b[0m \u001b[38;5;124;03m        Original encoding.\u001b[39;00m\n\u001b[1;32m    151\u001b[0m \u001b[38;5;124;03m    \"\"\"\u001b[39;00m\n\u001b[0;32m--> 152\u001b[0m     check_is_fitted(\u001b[38;5;28mself\u001b[39m)\n\u001b[1;32m    153\u001b[0m     y \u001b[38;5;241m=\u001b[39m column_or_1d(y, warn\u001b[38;5;241m=\u001b[39m\u001b[38;5;28;01mTrue\u001b[39;00m)\n\u001b[1;32m    154\u001b[0m     \u001b[38;5;66;03m# inverse transform of empty array is empty array\u001b[39;00m\n",
      "File \u001b[0;32m/opt/anaconda3/lib/python3.12/site-packages/sklearn/utils/validation.py:1622\u001b[0m, in \u001b[0;36mcheck_is_fitted\u001b[0;34m(estimator, attributes, msg, all_or_any)\u001b[0m\n\u001b[1;32m   1619\u001b[0m     \u001b[38;5;28;01mraise\u001b[39;00m \u001b[38;5;167;01mTypeError\u001b[39;00m(\u001b[38;5;124m\"\u001b[39m\u001b[38;5;132;01m%s\u001b[39;00m\u001b[38;5;124m is not an estimator instance.\u001b[39m\u001b[38;5;124m\"\u001b[39m \u001b[38;5;241m%\u001b[39m (estimator))\n\u001b[1;32m   1621\u001b[0m \u001b[38;5;28;01mif\u001b[39;00m \u001b[38;5;129;01mnot\u001b[39;00m _is_fitted(estimator, attributes, all_or_any):\n\u001b[0;32m-> 1622\u001b[0m     \u001b[38;5;28;01mraise\u001b[39;00m NotFittedError(msg \u001b[38;5;241m%\u001b[39m {\u001b[38;5;124m\"\u001b[39m\u001b[38;5;124mname\u001b[39m\u001b[38;5;124m\"\u001b[39m: \u001b[38;5;28mtype\u001b[39m(estimator)\u001b[38;5;241m.\u001b[39m\u001b[38;5;18m__name__\u001b[39m})\n",
      "\u001b[0;31mNotFittedError\u001b[0m: This LabelEncoder instance is not fitted yet. Call 'fit' with appropriate arguments before using this estimator."
     ]
    }
   ],
   "source": [
    "label_encoder = LabelEncoder()\n",
    "y_train_encoded = y_train  # Map 'NO' -> 0, 'YES' -> 1\n",
    "y_test_encoded =y_test\n",
    "\n",
    "# Normalize data for SVM, KNN, and XGBoost\n",
    "X_train_scaled = X_train \n",
    "X_test_scaled = X_test \n",
    "\n",
    "# Model 1: SVM\n",
    "svm = SVC(probability=True)\n",
    "svm.fit(X_train_scaled, y_train_encoded)\n",
    "\n",
    "# Model 2: Logstics Regression \n",
    "knn = LogisticRegression()\n",
    "knn.fit(X_train_scaled, y_train_encoded)\n",
    "\n",
    "# Model 3: XGBoost\n",
    "xgboost = XGBClassifier(use_label_encoder=False, eval_metric='mlogloss')\n",
    "xgboost.fit(X_train_scaled, y_train_encoded)\n",
    "\n",
    "# Predictions\n",
    "svm_probs = svm.predict_proba(X_test_scaled)\n",
    "knn_probs = knn.predict_proba(X_test_scaled)\n",
    "xgboost_probs = xgboost.predict_proba(X_test_scaled)\n",
    "\n",
    "# Custom ensemble based on averaging probabilities\n",
    "ensemble_probs = (svm_probs + knn_probs + xgboost_probs) / 3\n",
    "ensemble_preds = np.argmax(ensemble_probs, axis=1)\n",
    "\n",
    "# Decode numeric predictions back to original labels\n",
    "ensemble_labels = label_encoder.inverse_transform(ensemble_preds)\n",
    "\n",
    "# Evaluate ensemble\n",
    "accuracy = accuracy_score(y_test_encoded, ensemble_preds)\n",
    "\n",
    "print(ensemble_labels )\n",
    "\n",
    "# print(f\"Ensemble Accuracy: {accuracy:.2f}\")\n",
    "\n",
    "accuracy = accuracy_score(y_test_encoded, ensemble_preds)\n",
    "print(f\"Accuracy: {accuracy:.2f}\")\n",
    "\n",
    "# Display classification report\n",
    "report = classification_report(y_test_encoded, ensemble_preds, target_names=label_encoder.classes_)\n",
    "print(\"\\nClassification Report:\\n\", report)\n",
    "\n",
    "# Confusion matrix\n",
    "conf_matrix = confusion_matrix(y_test_encoded, ensemble_preds)\n",
    "print(\"\\nConfusion Matrix:\\n\", conf_matrix)"
   ]
  },
  {
   "cell_type": "code",
   "execution_count": null,
   "id": "030b3c82-4188-4bce-8d46-b053c362c146",
   "metadata": {},
   "outputs": [],
   "source": []
  }
 ],
 "metadata": {
  "kernelspec": {
   "display_name": "Python 3 (ipykernel)",
   "language": "python",
   "name": "python3"
  },
  "language_info": {
   "codemirror_mode": {
    "name": "ipython",
    "version": 3
   },
   "file_extension": ".py",
   "mimetype": "text/x-python",
   "name": "python",
   "nbconvert_exporter": "python",
   "pygments_lexer": "ipython3",
   "version": "3.12.4"
  }
 },
 "nbformat": 4,
 "nbformat_minor": 5
}
